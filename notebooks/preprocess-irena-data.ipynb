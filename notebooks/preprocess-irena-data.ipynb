{
 "cells": [
  {
   "cell_type": "markdown",
   "metadata": {},
   "source": [
    "# Preprocess IRENA hydro generation data\n",
    "\n",
    "This notebook preprocesses IRENA data from their \"Renewable energy statistics\" publication. It reduces the dataset to generation of hydro power in the relevant countries. This notebook creates the `./data/irena/hydro-generation-europe.csv` dataset. The original IRENA dataset is not part of this repository and must be retrieved manually to run this notebook."
   ]
  },
  {
   "cell_type": "code",
   "execution_count": 1,
   "metadata": {},
   "outputs": [],
   "source": [
    "import numpy as np\n",
    "import pandas as pd\n",
    "import pycountry"
   ]
  },
  {
   "cell_type": "code",
   "execution_count": 2,
   "metadata": {},
   "outputs": [],
   "source": [
    "def country_id(country_name):\n",
    "    # fix country names\n",
    "    if country_name == \"UK\":\n",
    "        country_name = \"United Kingdom\"\n",
    "    elif country_name == \"Bosnia Herzg\":\n",
    "        country_name = \"Bosnia and Herzegovina\"\n",
    "    try:\n",
    "        return pycountry.countries.lookup(country_name).alpha_3\n",
    "    except LookupError:\n",
    "        return None"
   ]
  },
  {
   "cell_type": "code",
   "execution_count": 3,
   "metadata": {},
   "outputs": [
    {
     "data": {
      "text/plain": [
       "country_code  year\n",
       "AFG           2000    457\n",
       "              2001    457\n",
       "              2002    457\n",
       "              2003    458\n",
       "              2004    458\n",
       "Name: generation_gwh, dtype: int64"
      ]
     },
     "execution_count": 3,
     "metadata": {},
     "output_type": "execute_result"
    }
   ],
   "source": [
    "df = (\n",
    "    pd\n",
    "    .read_excel(\"../data/IRENA_RE_Statistics_July2020extract.xlsx\", engine=\"openpyxl\", index_col=[0, 1, 2])\n",
    "    .rename_axis(index=[\"country_code\", \"indicator\", \"technology\"])\n",
    "    .rename_axis(columns=\"year\")\n",
    "    .stack()\n",
    "    .unstack(\"indicator\")\n",
    "    .rename(index=country_id, level=\"country_code\")\n",
    "    .reset_index()\n",
    "    .dropna(\"index\", subset=[\"country_code\"])\n",
    "    .set_index([\"country_code\", \"technology\", \"year\"])\n",
    "    .loc[:, \"Electricity generation (GWh)\"]\n",
    "    .xs(\"Renewable hydropower\", level=\"technology\")\n",
    "    .rename(\"generation_gwh\")\n",
    "    .dropna()\n",
    "    .sort_index()\n",
    "    .astype(int)\n",
    ")\n",
    "df.head()"
   ]
  },
  {
   "cell_type": "code",
   "execution_count": 4,
   "metadata": {},
   "outputs": [],
   "source": [
    "df.to_csv(\"../data/irena/hydro-generation-europe.csv\", index=True, header=True)"
   ]
  },
  {
   "cell_type": "code",
   "execution_count": null,
   "metadata": {},
   "outputs": [],
   "source": []
  }
 ],
 "metadata": {
  "kernelspec": {
   "display_name": "Python 3",
   "language": "python",
   "name": "python3"
  },
  "language_info": {
   "codemirror_mode": {
    "name": "ipython",
    "version": 3
   },
   "file_extension": ".py",
   "mimetype": "text/x-python",
   "name": "python",
   "nbconvert_exporter": "python",
   "pygments_lexer": "ipython3",
   "version": "3.7.10"
  }
 },
 "nbformat": 4,
 "nbformat_minor": 4
}
